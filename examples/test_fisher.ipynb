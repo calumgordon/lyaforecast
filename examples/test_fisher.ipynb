{
 "cells": [
  {
   "cell_type": "markdown",
   "metadata": {},
   "source": [
    "# Playing with forecasts"
   ]
  },
  {
   "cell_type": "code",
   "execution_count": 1,
   "metadata": {},
   "outputs": [
    {
     "name": "stdout",
     "output_type": "stream",
     "text": [
      "Populating the interactive namespace from numpy and matplotlib\n"
     ]
    }
   ],
   "source": [
    "%pylab inline\n",
    "import numpy as np\n",
    "import matplotlib.pyplot as plt\n",
    "import forecast as fc"
   ]
  },
  {
   "cell_type": "code",
   "execution_count": 2,
   "metadata": {},
   "outputs": [],
   "source": [
    "forecast = fc.FisherForecast()"
   ]
  },
  {
   "cell_type": "code",
   "execution_count": 3,
   "metadata": {},
   "outputs": [
    {
     "name": "stdout",
     "output_type": "stream",
     "text": [
      "Nkp 20\n",
      "kp_kms [ 0.     0.001  0.002  0.003  0.004  0.005  0.006  0.007  0.008  0.009\n",
      "  0.01   0.011  0.012  0.013  0.014  0.015  0.016  0.017  0.018  0.019]\n"
     ]
    }
   ],
   "source": [
    "# define radial wavenumbers (temporary, you definitely want finer bins here)\n",
    "kp_kms_min=0.0\n",
    "kp_kms_max=0.02\n",
    "dkp_kms=0.001\n",
    "kp_kms = np.arange(kp_kms_min,kp_kms_max,dkp_kms)\n",
    "Nkp = len(kp_kms)\n",
    "print('Nkp',Nkp)\n",
    "print('kp_kms',kp_kms)"
   ]
  },
  {
   "cell_type": "code",
   "execution_count": 4,
   "metadata": {},
   "outputs": [
    {
     "name": "stdout",
     "output_type": "stream",
     "text": [
      "Nkt 20\n",
      "kt_deg [   0.    7.   14.   21.   28.   35.   42.   49.   56.   63.   70.   77.\n",
      "   84.   91.   98.  105.  112.  119.  126.  133.]\n"
     ]
    }
   ],
   "source": [
    "# define transverse wavenumbers (temporary, you definitely want finer bins here)\n",
    "kt_deg_min=0.0\n",
    "kt_deg_max=140.0\n",
    "dkt_deg=7.0\n",
    "kt_deg = np.arange(kt_deg_min,kt_deg_max,dkt_deg)\n",
    "Nkt = len(kt_deg)\n",
    "print('Nkt',Nkt)\n",
    "print('kt_deg',kt_deg)"
   ]
  },
  {
   "cell_type": "code",
   "execution_count": 5,
   "metadata": {},
   "outputs": [
    {
     "name": "stdout",
     "output_type": "stream",
     "text": [
      "Nmodes 1.0\n"
     ]
    }
   ],
   "source": [
    "# get number of modes in a Fourier mode bin\n",
    "Nmodes = forecast.Nmodes(kt_deg[4],kp_kms[2],dkt_deg,dkp_kms)\n",
    "print('Nmodes',Nmodes)"
   ]
  },
  {
   "cell_type": "code",
   "execution_count": 6,
   "metadata": {},
   "outputs": [
    {
     "name": "stdout",
     "output_type": "stream",
     "text": [
      "z =  2.5\n",
      "kp_kms =  0.002\n",
      "kt_deg =  28.0\n",
      "dkms_dhMpc =  108.06573395107351\n",
      "kp_hMpc =  0.216131467902\n",
      "dhMpc_ddeg =  70.06015807722619\n",
      "kt_hMpc =  0.399656534733\n",
      "k_hMpc =  0.45435466012\n",
      "mu =  0.475688898619\n",
      "P_hMpc = 2.82057412388\n",
      "P_degkms = 0.0620988130202\n",
      "P_degkms 0.0620988130202\n"
     ]
    }
   ],
   "source": [
    "# signal\n",
    "z=2.5\n",
    "P_degkms = forecast.FluxP3D_degkms(z,kt_deg[4],kp_kms[2])\n",
    "print('P_degkms',P_degkms)"
   ]
  },
  {
   "cell_type": "code",
   "execution_count": 7,
   "metadata": {},
   "outputs": [],
   "source": [
    "# try vector of kp\n",
    "#P_degkms = forecast.FluxP3D_degkms(z,kt_deg[4],kp_kms)\n",
    "#print('P_degkms',P_degkms)"
   ]
  },
  {
   "cell_type": "code",
   "execution_count": 8,
   "metadata": {},
   "outputs": [],
   "source": [
    "# try vector of kt\n",
    "#P_degkms = forecast.FluxP3D_degkms(z,kt_deg,kp_kms[2])\n",
    "#print('P_degkms',P_degkms)"
   ]
  },
  {
   "cell_type": "code",
   "execution_count": 9,
   "metadata": {},
   "outputs": [
    {
     "name": "stdout",
     "output_type": "stream",
     "text": [
      "z =  2.5\n",
      "kp_kms =  0.002\n",
      "kt_deg =  28.0\n",
      "dkms_dhMpc =  108.06573395107351\n",
      "kp_hMpc =  0.216131467902\n",
      "dhMpc_ddeg =  70.06015807722619\n",
      "kt_hMpc =  0.399656534733\n",
      "k_hMpc =  0.45435466012\n",
      "mu =  0.475688898619\n",
      "P_hMpc = 2.82057412388\n",
      "P_degkms = 0.0620988130202\n",
      "z 2.5\n",
      "kt_deg 28.0\n",
      "kp_kms 0.002\n",
      "P3D_degkms 0.0620988130202\n",
      "P1D_kms 23.9779292547\n",
      "P_total_degkms 2.45989173849\n",
      "var_P_degkms 12.1021347302\n",
      "VarP_degkms 12.1021347302\n"
     ]
    }
   ],
   "source": [
    "VarP_degkms = forecast.VarFluxP3D_degkms(z,kt_deg[4],kp_kms[2])\n",
    "print('VarP_degkms',VarP_degkms)"
   ]
  },
  {
   "cell_type": "code",
   "execution_count": null,
   "metadata": {
    "collapsed": true
   },
   "outputs": [],
   "source": []
  },
  {
   "cell_type": "code",
   "execution_count": null,
   "metadata": {
    "collapsed": true
   },
   "outputs": [],
   "source": []
  }
 ],
 "metadata": {
  "anaconda-cloud": {},
  "kernelspec": {
   "display_name": "Python 3",
   "language": "python",
   "name": "python3"
  },
  "language_info": {
   "codemirror_mode": {
    "name": "ipython",
    "version": 3
   },
   "file_extension": ".py",
   "mimetype": "text/x-python",
   "name": "python",
   "nbconvert_exporter": "python",
   "pygments_lexer": "ipython3",
   "version": "3.5.3"
  }
 },
 "nbformat": 4,
 "nbformat_minor": 1
}
